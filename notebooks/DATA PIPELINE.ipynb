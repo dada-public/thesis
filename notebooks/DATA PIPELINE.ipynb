{
 "cells": [
  {
   "cell_type": "markdown",
   "metadata": {},
   "source": [
    "## Training a model\n",
    "\n",
    "This notebook describes how to train and evaluate a model using 1-dimensional Melspectograms, i.e., the same process that we would obtain running the command: \n",
    "\n",
    "```make eval use='MEL' dim=1 batch=1```\n",
    "\n",
    "This notebook is presented here only for illustration pourposes. So we will get rid off the nuances that make the project run smoothly using ```make``` and we will store all the data in the temp directory.\n",
    "\n",
    "Inspite we don't have a class system, inheritance, scopes and any other software sugar here, the process we are about to describe follows the same steps than those implemented to support ```make``` commands.\n",
    "\n"
   ]
  },
  {
   "cell_type": "markdown",
   "metadata": {},
   "source": [
    "### Creating a TRAIN/TEST dataset split "
   ]
  },
  {
   "cell_type": "markdown",
   "metadata": {},
   "source": [
    "First, we initialize some reference values and import generic modules."
   ]
  },
  {
   "cell_type": "code",
   "execution_count": 162,
   "metadata": {},
   "outputs": [],
   "source": [
    "import os\n",
    "import librosa as lbr\n",
    "import random\n",
    "import shutil\n",
    "import numpy as np\n",
    "import matplotlib.pyplot as plt\n",
    "from tqdm import tqdm\n",
    "\n",
    "DATA = '../data/interim'\n",
    "TEMP = '../data/temp'\n",
    "TRAIN_DIR = os.path.join(TEMP, 'train')\n",
    "TEST_DIR = os.path.join(TEMP, 'test')\n",
    "\n",
    "random.seed(42)\n",
    "\n",
    "mel = lambda x: lbr.feature.melspectrogram(x, sr=22050)\n",
    "\n",
    "categories = [\n",
    "    {'name': 'blues', 'klass':0}, {'name': 'classical', 'klass':1}, {'name': 'country', 'klass':2},\n",
    "    {'name': 'disco', 'klass':3}, {'name': 'hiphop', 'klass':4}, {'name': 'jazz', 'klass':5}, \n",
    "    {'name': 'metal', 'klass':6}, {'name': 'pop', 'klass':7}, {'name': 'reggae', 'klass':8},\n",
    "    {'name': 'rock', 'klass':9} \n",
    "]"
   ]
  },
  {
   "cell_type": "markdown",
   "metadata": {},
   "source": [
    "Now we generate a TRAIN and TEST datasets.\n",
    "\n",
    "Since the original dataset is completely balanced, we will create a stratified split between TRAIN and TEST datasets. Our strategy consists of walking through each category picking only a 30% of the songs for TEST and the remaining 70% for TRAIN."
   ]
  },
  {
   "cell_type": "code",
   "execution_count": 163,
   "metadata": {},
   "outputs": [],
   "source": [
    "train_songs = []\n",
    "test_songs = []\n",
    "\n",
    "for cat in categories:\n",
    "    songs = os.listdir(os.path.join(DATA, cat['name']))\n",
    "    songs = random.sample(songs, len(songs))\n",
    "    split = int(len(songs)*.7)\n",
    "    \n",
    "    for song in songs[:split]:\n",
    "        train_songs.append({\n",
    "            'name': str(cat['klass']) + '_' + song,\n",
    "            'klass': cat['klass'],\n",
    "            'src': os.path.join(DATA, cat['name'], song)\n",
    "        })\n",
    "    for song in songs[split:len(songs)]:\n",
    "        test_songs.append({\n",
    "            'name': str(cat['klass']) + '_' + song,\n",
    "            'klass': cat['klass'],\n",
    "            'src': os.path.join(DATA, cat['name'], song)\n",
    "        })"
   ]
  },
  {
   "cell_type": "markdown",
   "metadata": {},
   "source": [
    "Before processing, we clean (or create) folders to store our TRAIN and TEST datasets."
   ]
  },
  {
   "cell_type": "code",
   "execution_count": 164,
   "metadata": {},
   "outputs": [],
   "source": [
    "if os.path.isdir(TRAIN_DIR):\n",
    "    shutil.rmtree(TRAIN_DIR)\n",
    "if os.path.isdir(TEST_DIR):\n",
    "    shutil.rmtree(TEST_DIR)\n",
    "os.makedirs(TRAIN_DIR)\n",
    "os.makedirs(TEST_DIR)"
   ]
  },
  {
   "cell_type": "markdown",
   "metadata": {},
   "source": [
    "To augment our initial dataset, we are going to cut each training song in several pieces. Each excerpt will cover 3s of its original track (30*0.1 and we will overlap each excerpt by 50%.\n",
    "\n",
    "As a result, we are going to train our \"weak learners\" on the excerpts, not on full songs."
   ]
  },
  {
   "cell_type": "code",
   "execution_count": 165,
   "metadata": {},
   "outputs": [
    {
     "name": "stderr",
     "output_type": "stream",
     "text": [
      "100%|██████████| 700/700 [02:19<00:00,  5.00it/s]\n"
     ]
    }
   ],
   "source": [
    "X = []\n",
    "Y = []\n",
    "\n",
    "for song in tqdm(train_songs):\n",
    "    signal, sr = lbr.load(song['src'])\n",
    "    signal = signal[:660000]\n",
    "    \n",
    "    chunks = []\n",
    "    chunk = int(signal.shape[0]*0.1);\n",
    "    offset = int(chunk*(1.-0.5))\n",
    "    \n",
    "    for i in range(0, signal.shape[0] - chunk + offset, offset):\n",
    "        chunks.append(signal[i:i + chunk])\n",
    "\n",
    "    chunks = np.array(chunks)\n",
    "    \n",
    "    excerpts = []\n",
    "    \n",
    "    for excerpt in chunks:\n",
    "        excerpts.append(mel(excerpt))\n",
    "    \n",
    "    X.extend(excerpts)\n",
    "    Y.extend([np.eye(10, k=song['klass'], dtype=int)[0]] * len(excerpts))\n",
    "    \n",
    "np.save(os.path.join(TRAIN_DIR, 'x.npy'), np.array(X))\n",
    "np.save(os.path.join(TRAIN_DIR, 'y.npy'), np.array(Y))"
   ]
  },
  {
   "cell_type": "markdown",
   "metadata": {},
   "source": [
    "Even though we have processed the training songs to augment the number of samples during the fitting process for our models, the test songs will remain untoched. \n",
    "\n",
    "The reason for this is that we want to obtain predictions for full songs (a.k.a. 30s tracks) not for the excerpts they contain."
   ]
  },
  {
   "cell_type": "code",
   "execution_count": 166,
   "metadata": {},
   "outputs": [],
   "source": [
    "for song in test_songs:\n",
    "    shutil.copyfile(song['src'], os.path.join(TEST_DIR, song['name']))"
   ]
  },
  {
   "cell_type": "markdown",
   "metadata": {},
   "source": [
    "### Training the model on the augmented TRAIN dataset"
   ]
  },
  {
   "cell_type": "code",
   "execution_count": 167,
   "metadata": {},
   "outputs": [],
   "source": [
    "from sklearn.model_selection import train_test_split\n",
    "from keras.models import Sequential\n",
    "from keras.layers import Dense, LSTM, Conv1D, MaxPooling1D, Dropout\n",
    "from keras.regularizers import l2\n",
    "from keras.optimizers import Adam\n",
    "from keras.callbacks import EarlyStopping"
   ]
  },
  {
   "cell_type": "markdown",
   "metadata": {},
   "source": [
    "First we create a VALIDATION dataset to guide the fitting process. We use a 20% of the training songs for this matter.\n",
    "\n",
    "In addition, we define an early stop strategy that will halt the process in case it detects that no progress has been achieved after 15 epochs."
   ]
  },
  {
   "cell_type": "code",
   "execution_count": 168,
   "metadata": {},
   "outputs": [],
   "source": [
    "X = np.load(os.path.join(TRAIN_DIR,  'x.npy'))\n",
    "Y = np.load(os.path.join(TRAIN_DIR,  'y.npy'))\n",
    "\n",
    "X_train, X_val, Y_train, Y_val = train_test_split(X, Y, test_size=0.2, random_state=42)\n",
    "\n",
    "halt = EarlyStopping(\n",
    "    monitor='val_loss', # What metric are we watching out\n",
    "    min_delta=0.001,    # What do we consider an \"improvement\"\n",
    "    patience=15,        # How many epochs do we want to wait\n",
    "    verbose=0,\n",
    "    mode='auto',\n",
    "    restore_best_weights=True # If halts, recover the best recorded model.\n",
    ")\n",
    "\n",
    "DROPOUT=0.3"
   ]
  },
  {
   "cell_type": "markdown",
   "metadata": {},
   "source": [
    "Now, finally, we define and fit our \"weak learner\""
   ]
  },
  {
   "cell_type": "code",
   "execution_count": 169,
   "metadata": {},
   "outputs": [],
   "source": [
    "model = Sequential()\n",
    "\n",
    "model.add(Conv1D(\n",
    "        filters=16,\n",
    "        kernel_size=3,\n",
    "        strides=1,\n",
    "        input_shape=(X_train[0].shape[0],X_train[0].shape[1]),\n",
    "        activation='relu'\n",
    "    )\n",
    ")\n",
    "\n",
    "model.add(MaxPooling1D(pool_size=2, strides=2))\n",
    "model.add(Dropout(DROPOUT))\n",
    "\n",
    "model.add(Conv1D(\n",
    "        filters=32,\n",
    "        kernel_size=3,\n",
    "        strides=1,\n",
    "        activation='relu'\n",
    "    )\n",
    ")\n",
    "\n",
    "model.add(MaxPooling1D(pool_size=2, strides=2))\n",
    "model.add(Dropout(DROPOUT))\n",
    "\n",
    "model.add(Conv1D(\n",
    "        filters=64,\n",
    "        kernel_size=3,\n",
    "        strides=1,\n",
    "        activation='relu'\n",
    "    )\n",
    ")\n",
    "\n",
    "model.add(MaxPooling1D(pool_size=2, strides=2))\n",
    "model.add(Dropout(DROPOUT))\n",
    "\n",
    "model.add(LSTM(100, dropout=DROPOUT, kernel_regularizer=l2(0.001)))\n",
    "model.add(Dense(10, activation=\"softmax\"))\n",
    "\n",
    "model.compile(\n",
    "    loss='categorical_crossentropy',\n",
    "    optimizer=Adam(lr=0.001, beta_1=0.9, beta_2=0.99, epsilon=1e-8),\n",
    "    metrics=['accuracy']\n",
    ")"
   ]
  },
  {
   "cell_type": "code",
   "execution_count": 171,
   "metadata": {
    "scrolled": true
   },
   "outputs": [
    {
     "name": "stdout",
     "output_type": "stream",
     "text": [
      "Train on 10640 samples, validate on 2660 samples\n",
      "Epoch 1/100\n",
      "10640/10640 [==============================] - 17s 2ms/step - loss: 1.4612 - acc: 0.4843 - val_loss: 1.3589 - val_acc: 0.5316\n",
      "Epoch 2/100\n",
      "10640/10640 [==============================] - 22s 2ms/step - loss: 1.4058 - acc: 0.5024 - val_loss: 1.3798 - val_acc: 0.5177\n",
      "Epoch 3/100\n",
      "10640/10640 [==============================] - 16s 2ms/step - loss: 1.3734 - acc: 0.5156 - val_loss: 1.3612 - val_acc: 0.5248\n",
      "Epoch 4/100\n",
      "10640/10640 [==============================] - 16s 2ms/step - loss: 1.3502 - acc: 0.5294 - val_loss: 1.2902 - val_acc: 0.5556\n",
      "Epoch 5/100\n",
      "10640/10640 [==============================] - 19s 2ms/step - loss: 1.3140 - acc: 0.5445 - val_loss: 1.2916 - val_acc: 0.5492\n",
      "Epoch 6/100\n",
      "10640/10640 [==============================] - 17s 2ms/step - loss: 1.2940 - acc: 0.5480 - val_loss: 1.2577 - val_acc: 0.5680\n",
      "Epoch 7/100\n",
      "10640/10640 [==============================] - 17s 2ms/step - loss: 1.2700 - acc: 0.5643 - val_loss: 1.2758 - val_acc: 0.5553\n",
      "Epoch 8/100\n",
      "10640/10640 [==============================] - 17s 2ms/step - loss: 1.2454 - acc: 0.5700 - val_loss: 1.2834 - val_acc: 0.5617\n",
      "Epoch 9/100\n",
      "10640/10640 [==============================] - 19s 2ms/step - loss: 1.2393 - acc: 0.5716 - val_loss: 1.2265 - val_acc: 0.5680\n",
      "Epoch 10/100\n",
      "10640/10640 [==============================] - 23s 2ms/step - loss: 1.2116 - acc: 0.5817 - val_loss: 1.1429 - val_acc: 0.6132\n",
      "Epoch 11/100\n",
      "10640/10640 [==============================] - 24s 2ms/step - loss: 1.1948 - acc: 0.5836 - val_loss: 1.2301 - val_acc: 0.5658\n",
      "Epoch 12/100\n",
      "10640/10640 [==============================] - 24s 2ms/step - loss: 1.1745 - acc: 0.5976 - val_loss: 1.1684 - val_acc: 0.5914\n",
      "Epoch 13/100\n",
      "10640/10640 [==============================] - 24s 2ms/step - loss: 1.1638 - acc: 0.5994 - val_loss: 1.1602 - val_acc: 0.5936\n",
      "Epoch 14/100\n",
      "10640/10640 [==============================] - 24s 2ms/step - loss: 1.1451 - acc: 0.6058 - val_loss: 1.1022 - val_acc: 0.6195\n",
      "Epoch 15/100\n",
      "10640/10640 [==============================] - 24s 2ms/step - loss: 1.1273 - acc: 0.6145 - val_loss: 1.0865 - val_acc: 0.6293\n",
      "Epoch 16/100\n",
      "10640/10640 [==============================] - 24s 2ms/step - loss: 1.1267 - acc: 0.6123 - val_loss: 1.1424 - val_acc: 0.6008\n",
      "Epoch 17/100\n",
      "10640/10640 [==============================] - 24s 2ms/step - loss: 1.1046 - acc: 0.6211 - val_loss: 1.0912 - val_acc: 0.6244\n",
      "Epoch 18/100\n",
      "10640/10640 [==============================] - 25s 2ms/step - loss: 1.1052 - acc: 0.6227 - val_loss: 1.0685 - val_acc: 0.6267\n",
      "Epoch 19/100\n",
      "10640/10640 [==============================] - 24s 2ms/step - loss: 1.1051 - acc: 0.6195 - val_loss: 1.1897 - val_acc: 0.5865\n",
      "Epoch 20/100\n",
      "10640/10640 [==============================] - 24s 2ms/step - loss: 1.0957 - acc: 0.6260 - val_loss: 1.0867 - val_acc: 0.6237\n",
      "Epoch 21/100\n",
      "10640/10640 [==============================] - 24s 2ms/step - loss: 1.0759 - acc: 0.6337 - val_loss: 1.0939 - val_acc: 0.6289\n",
      "Epoch 22/100\n",
      "10640/10640 [==============================] - 25s 2ms/step - loss: 1.0635 - acc: 0.6393 - val_loss: 1.0472 - val_acc: 0.6402\n",
      "Epoch 23/100\n",
      "10640/10640 [==============================] - 25s 2ms/step - loss: 1.0599 - acc: 0.6420 - val_loss: 1.1504 - val_acc: 0.6015\n",
      "Epoch 24/100\n",
      "10640/10640 [==============================] - 25s 2ms/step - loss: 1.0560 - acc: 0.6414 - val_loss: 1.0529 - val_acc: 0.6380\n",
      "Epoch 25/100\n",
      "10640/10640 [==============================] - 25s 2ms/step - loss: 1.0329 - acc: 0.6461 - val_loss: 1.0181 - val_acc: 0.6602\n",
      "Epoch 26/100\n",
      "10640/10640 [==============================] - 25s 2ms/step - loss: 1.0250 - acc: 0.6486 - val_loss: 1.0092 - val_acc: 0.6541\n",
      "Epoch 27/100\n",
      "10640/10640 [==============================] - 25s 2ms/step - loss: 1.0311 - acc: 0.6487 - val_loss: 1.0292 - val_acc: 0.6406\n",
      "Epoch 28/100\n",
      "10640/10640 [==============================] - 25s 2ms/step - loss: 1.0251 - acc: 0.6531 - val_loss: 0.9989 - val_acc: 0.6632\n",
      "Epoch 29/100\n",
      "10640/10640 [==============================] - 25s 2ms/step - loss: 1.0157 - acc: 0.6573 - val_loss: 0.9978 - val_acc: 0.6650\n",
      "Epoch 30/100\n",
      "10640/10640 [==============================] - 25s 2ms/step - loss: 1.0126 - acc: 0.6590 - val_loss: 1.0459 - val_acc: 0.6353\n",
      "Epoch 31/100\n",
      "10640/10640 [==============================] - 25s 2ms/step - loss: 1.0128 - acc: 0.6584 - val_loss: 1.0790 - val_acc: 0.6331\n",
      "Epoch 32/100\n",
      "10640/10640 [==============================] - 25s 2ms/step - loss: 1.0002 - acc: 0.6666 - val_loss: 1.0321 - val_acc: 0.6492\n",
      "Epoch 33/100\n",
      "10640/10640 [==============================] - 25s 2ms/step - loss: 0.9865 - acc: 0.6624 - val_loss: 1.0995 - val_acc: 0.6214\n",
      "Epoch 34/100\n",
      "10640/10640 [==============================] - 25s 2ms/step - loss: 0.9903 - acc: 0.6610 - val_loss: 1.0376 - val_acc: 0.6492\n",
      "Epoch 35/100\n",
      "10640/10640 [==============================] - 25s 2ms/step - loss: 0.9819 - acc: 0.6632 - val_loss: 1.0240 - val_acc: 0.6613\n",
      "Epoch 36/100\n",
      "10640/10640 [==============================] - 25s 2ms/step - loss: 0.9873 - acc: 0.6639 - val_loss: 1.0084 - val_acc: 0.6662\n",
      "Epoch 37/100\n",
      "10640/10640 [==============================] - 25s 2ms/step - loss: 0.9660 - acc: 0.6758 - val_loss: 1.0803 - val_acc: 0.6342\n",
      "Epoch 38/100\n",
      "10640/10640 [==============================] - 25s 2ms/step - loss: 0.9883 - acc: 0.6688 - val_loss: 1.0196 - val_acc: 0.6504\n",
      "Epoch 39/100\n",
      "10640/10640 [==============================] - 25s 2ms/step - loss: 0.9645 - acc: 0.6748 - val_loss: 1.0313 - val_acc: 0.6556\n",
      "Epoch 40/100\n",
      "10640/10640 [==============================] - 25s 2ms/step - loss: 0.9650 - acc: 0.6819 - val_loss: 1.0222 - val_acc: 0.6549\n",
      "Epoch 41/100\n",
      "10640/10640 [==============================] - 25s 2ms/step - loss: 0.9662 - acc: 0.6780 - val_loss: 1.0355 - val_acc: 0.6477\n",
      "Epoch 42/100\n",
      "10640/10640 [==============================] - 25s 2ms/step - loss: 0.9667 - acc: 0.6770 - val_loss: 0.9995 - val_acc: 0.6684\n",
      "Epoch 43/100\n",
      "10640/10640 [==============================] - 25s 2ms/step - loss: 0.9562 - acc: 0.6854 - val_loss: 0.9840 - val_acc: 0.6695\n",
      "Epoch 44/100\n",
      "10640/10640 [==============================] - 25s 2ms/step - loss: 0.9483 - acc: 0.6846 - val_loss: 0.9823 - val_acc: 0.6560\n",
      "Epoch 45/100\n",
      "10640/10640 [==============================] - 25s 2ms/step - loss: 0.9477 - acc: 0.6856 - val_loss: 0.9891 - val_acc: 0.6695\n",
      "Epoch 46/100\n",
      "10640/10640 [==============================] - 25s 2ms/step - loss: 0.9363 - acc: 0.6854 - val_loss: 1.0751 - val_acc: 0.6455\n",
      "Epoch 47/100\n",
      "10640/10640 [==============================] - 25s 2ms/step - loss: 0.9504 - acc: 0.6883 - val_loss: 1.0326 - val_acc: 0.6553\n",
      "Epoch 48/100\n",
      "10640/10640 [==============================] - 25s 2ms/step - loss: 0.9339 - acc: 0.6836 - val_loss: 1.0129 - val_acc: 0.6617\n",
      "Epoch 49/100\n",
      "10640/10640 [==============================] - 25s 2ms/step - loss: 0.9373 - acc: 0.6901 - val_loss: 0.9582 - val_acc: 0.6793\n",
      "Epoch 50/100\n",
      "10640/10640 [==============================] - 25s 2ms/step - loss: 0.9318 - acc: 0.6896 - val_loss: 1.0387 - val_acc: 0.6545\n",
      "Epoch 51/100\n",
      "10640/10640 [==============================] - 25s 2ms/step - loss: 0.9274 - acc: 0.6938 - val_loss: 0.9647 - val_acc: 0.6748\n",
      "Epoch 52/100\n",
      "10640/10640 [==============================] - 25s 2ms/step - loss: 0.9099 - acc: 0.7015 - val_loss: 1.0017 - val_acc: 0.6771\n",
      "Epoch 53/100\n",
      "10640/10640 [==============================] - 24s 2ms/step - loss: 0.9118 - acc: 0.6984 - val_loss: 1.0040 - val_acc: 0.6680\n",
      "Epoch 54/100\n",
      "10640/10640 [==============================] - 25s 2ms/step - loss: 0.9043 - acc: 0.7010 - val_loss: 0.9277 - val_acc: 0.6846\n",
      "Epoch 55/100\n",
      "10640/10640 [==============================] - 25s 2ms/step - loss: 0.9238 - acc: 0.6938 - val_loss: 0.9548 - val_acc: 0.6812\n",
      "Epoch 56/100\n",
      "10640/10640 [==============================] - 25s 2ms/step - loss: 0.9145 - acc: 0.6988 - val_loss: 0.9328 - val_acc: 0.6925\n",
      "Epoch 57/100\n",
      "10640/10640 [==============================] - 25s 2ms/step - loss: 0.8932 - acc: 0.7056 - val_loss: 0.9941 - val_acc: 0.6688\n",
      "Epoch 58/100\n",
      "10640/10640 [==============================] - 25s 2ms/step - loss: 0.8961 - acc: 0.7062 - val_loss: 0.9733 - val_acc: 0.6752\n",
      "Epoch 59/100\n"
     ]
    },
    {
     "name": "stdout",
     "output_type": "stream",
     "text": [
      "10640/10640 [==============================] - 23s 2ms/step - loss: 0.9089 - acc: 0.6941 - val_loss: 0.9858 - val_acc: 0.6756\n",
      "Epoch 60/100\n",
      "10640/10640 [==============================] - 23s 2ms/step - loss: 0.8926 - acc: 0.7039 - val_loss: 0.9309 - val_acc: 0.6936\n",
      "Epoch 61/100\n",
      "10640/10640 [==============================] - 24s 2ms/step - loss: 0.8945 - acc: 0.7059 - val_loss: 0.9376 - val_acc: 0.6929\n",
      "Epoch 62/100\n",
      "10640/10640 [==============================] - 24s 2ms/step - loss: 0.8932 - acc: 0.7106 - val_loss: 0.9640 - val_acc: 0.6850\n",
      "Epoch 63/100\n",
      "10640/10640 [==============================] - 24s 2ms/step - loss: 0.8739 - acc: 0.7136 - val_loss: 0.9032 - val_acc: 0.6989\n",
      "Epoch 64/100\n",
      "10640/10640 [==============================] - 24s 2ms/step - loss: 0.8890 - acc: 0.7061 - val_loss: 1.0162 - val_acc: 0.6515\n",
      "Epoch 65/100\n",
      "10640/10640 [==============================] - 23s 2ms/step - loss: 0.9005 - acc: 0.6997 - val_loss: 0.9693 - val_acc: 0.6729\n",
      "Epoch 66/100\n",
      "10640/10640 [==============================] - 23s 2ms/step - loss: 0.8846 - acc: 0.7149 - val_loss: 0.9994 - val_acc: 0.6714\n",
      "Epoch 67/100\n",
      "10640/10640 [==============================] - 24s 2ms/step - loss: 0.8989 - acc: 0.7012 - val_loss: 0.9852 - val_acc: 0.6684\n",
      "Epoch 68/100\n",
      "10640/10640 [==============================] - 24s 2ms/step - loss: 0.8897 - acc: 0.7047 - val_loss: 0.9675 - val_acc: 0.6850\n",
      "Epoch 69/100\n",
      "10640/10640 [==============================] - 24s 2ms/step - loss: 0.8840 - acc: 0.7094 - val_loss: 0.9413 - val_acc: 0.6898\n",
      "Epoch 70/100\n",
      "10640/10640 [==============================] - 24s 2ms/step - loss: 0.8764 - acc: 0.7102 - val_loss: 0.9733 - val_acc: 0.6876\n",
      "Epoch 71/100\n",
      "10640/10640 [==============================] - 24s 2ms/step - loss: 0.8761 - acc: 0.7102 - val_loss: 0.9611 - val_acc: 0.6872\n",
      "Epoch 72/100\n",
      "10640/10640 [==============================] - 24s 2ms/step - loss: 0.8772 - acc: 0.7108 - val_loss: 0.9244 - val_acc: 0.7045\n",
      "Epoch 73/100\n",
      "10640/10640 [==============================] - 24s 2ms/step - loss: 0.8664 - acc: 0.7143 - val_loss: 0.9324 - val_acc: 0.6910\n",
      "Epoch 74/100\n",
      "10640/10640 [==============================] - 24s 2ms/step - loss: 0.8754 - acc: 0.7148 - val_loss: 0.9503 - val_acc: 0.6929\n",
      "Epoch 75/100\n",
      "10640/10640 [==============================] - 24s 2ms/step - loss: 0.8565 - acc: 0.7232 - val_loss: 0.9253 - val_acc: 0.6951\n",
      "Epoch 76/100\n",
      "10640/10640 [==============================] - 24s 2ms/step - loss: 0.8776 - acc: 0.7133 - val_loss: 0.9405 - val_acc: 0.6951\n",
      "Epoch 77/100\n",
      "10640/10640 [==============================] - 24s 2ms/step - loss: 0.8682 - acc: 0.7152 - val_loss: 0.9126 - val_acc: 0.7004\n",
      "Epoch 78/100\n",
      "10640/10640 [==============================] - 24s 2ms/step - loss: 0.8709 - acc: 0.7142 - val_loss: 0.9601 - val_acc: 0.6857\n"
     ]
    }
   ],
   "source": [
    "history = model.fit(\n",
    "    X_train, Y_train,\n",
    "    batch_size=15,  # Deliberately low, to avoid alloc exceptions\n",
    "    epochs=100,  # 100 epochs will (probably) overfit. We trust in halt\n",
    "    validation_data=(X_val, Y_val),\n",
    "    callbacks=[halt],\n",
    "    verbose=1\n",
    ")"
   ]
  },
  {
   "cell_type": "markdown",
   "metadata": {},
   "source": [
    "After fitting the algorithm, we can plot the evolution of accuracy on both VALIDATION and TRAIN datasets:"
   ]
  },
  {
   "cell_type": "code",
   "execution_count": 172,
   "metadata": {},
   "outputs": [
    {
     "data": {
      "image/png": "[encoded data removed]",
      "text/plain": [
       "<Figure size 432x288 with 1 Axes>"
      ]
     },
     "metadata": {},
     "output_type": "display_data"
    }
   ],
   "source": [
    "plt.plot(history.history['acc'])\n",
    "plt.plot(history.history['val_acc'])\n",
    "plt.title('model accuracy')\n",
    "plt.ylabel('accuracy')\n",
    "plt.xlabel('epoch')\n",
    "plt.legend(['train', 'validation'], loc='upper left')\n",
    "plt.show()"
   ]
  },
  {
   "cell_type": "markdown",
   "metadata": {},
   "source": [
    "And the same for the losses functions"
   ]
  },
  {
   "cell_type": "code",
   "execution_count": 173,
   "metadata": {
    "scrolled": true
   },
   "outputs": [
    {
     "data": {
      "image/png": "[encoded data removed]",
      "text/plain": [
       "<Figure size 432x288 with 1 Axes>"
      ]
     },
     "metadata": {},
     "output_type": "display_data"
    }
   ],
   "source": [
    "# summarize history for loss\n",
    "plt.plot(history.history['loss'])\n",
    "plt.plot(history.history['val_loss'])\n",
    "plt.title('model loss')\n",
    "plt.ylabel('loss')\n",
    "plt.xlabel('epoch')\n",
    "plt.legend(['train', 'validation'], loc='upper left')\n",
    "plt.show()"
   ]
  },
  {
   "cell_type": "markdown",
   "metadata": {},
   "source": [
    "A carefull look on the previous charts reveal that the progress in **validation_loss** shows a pattern: it can achieve a big improvement followed by a (long) plateau. \n",
    "\n",
    "That behaviour could be due to the presence of LSTM layers which have stochastic behaviour. And that's the reason why we choos a high **patience** value in our halt method: we want to stop when we are truly confident that the progress has been stopped."
   ]
  },
  {
   "cell_type": "markdown",
   "metadata": {},
   "source": [
    "### Evaluating a model on a non-augmented TEST dataset\n",
    "\n",
    "So far, we have a model able to produce predictions for 3s-length chunks of songs in GTZAN. \n",
    "\n",
    "But we need predictions for 30s-length songs, which are the original tracks contained in the GTZAN dataset. Therefore we adopt a \"voting\" system, considering that our \"generalized\" model's output it's the most common prediction we can obtain from its exceprts.\n",
    "\n",
    "I.e., to predict the class of a certain song, we'll first process it in the same fashion we did with each training song, then we'll produce several predictions on each excerpt an adopt the most common value as our final prediction."
   ]
  },
  {
   "cell_type": "code",
   "execution_count": 174,
   "metadata": {},
   "outputs": [
    {
     "name": "stderr",
     "output_type": "stream",
     "text": [
      "100%|██████████| 300/300 [00:59<00:00,  5.00it/s]\n"
     ]
    }
   ],
   "source": [
    "songs = [os.path.join(TEST_DIR, x) for x in os.listdir(TEST_DIR)]\n",
    "\n",
    "klasses = []\n",
    "predictions = []\n",
    "\n",
    "for song in tqdm(songs):\n",
    "    klasses.append(int(os.path.basename(song).split('_')[0]))\n",
    "    \n",
    "    # We process each song, exactly the way we did with train_songs.\n",
    "    signal, sr = lbr.load(song)\n",
    "    signal = signal[:660000]\n",
    "    \n",
    "    chunks = []\n",
    "    chunk = int(signal.shape[0]*0.1);\n",
    "    offset = int(chunk*(1.-0.5))\n",
    "    \n",
    "    for i in range(0, signal.shape[0] - chunk + offset, offset):\n",
    "        chunks.append(signal[i:i + chunk])\n",
    "\n",
    "    chunks = np.array(chunks)\n",
    "    \n",
    "    excerpts = []\n",
    "    \n",
    "    for excerpt in chunks:\n",
    "        excerpts.append(mel(excerpt))\n",
    "    \n",
    "    excerpts = np.array(excerpts)\n",
    "    \n",
    "    \n",
    "    # Now we have converted a song into a bunch of excerpts.\n",
    "    # We use our model on each excerpt and take the most common prediction as \n",
    "    # our \"generalized\" model output.\n",
    "    \n",
    "    classes = list(model.predict_classes(np.array(excerpts)))\n",
    "    predictions.append(max(set(classes), key=classes.count))\n",
    "        "
   ]
  },
  {
   "cell_type": "markdown",
   "metadata": {},
   "source": [
    "Finally, we evaluate our \"generalize\" model in terms of accuracy and its confusion matrix:"
   ]
  },
  {
   "cell_type": "code",
   "execution_count": 175,
   "metadata": {},
   "outputs": [
    {
     "name": "stdout",
     "output_type": "stream",
     "text": [
      "\n",
      "Confusion matrix:\n",
      "\n",
      "[[20  1  3  4  1  0  0  0  1  0]\n",
      " [ 1 29  0  0  0  0  0  0  0  0]\n",
      " [ 1  1 20  1  0  2  0  1  0  4]\n",
      " [ 1  0  0 12  5  1  1  4  2  4]\n",
      " [ 1  0  0  0 22  0  1  2  4  0]\n",
      " [ 3  2  2  2  0 21  0  0  0  0]\n",
      " [ 0  0  0  1  0  1 27  1  0  0]\n",
      " [ 0  0  0  2  5  2  0 17  1  3]\n",
      " [ 1  0  1  0  6  1  0  1 19  1]\n",
      " [ 4  0  4  3  0  0  3  2  1 13]]\n"
     ]
    },
    {
     "data": {
      "text/plain": [
       "'Overall accuracy: 0.67'"
      ]
     },
     "metadata": {},
     "output_type": "display_data"
    }
   ],
   "source": [
    "import pandas as pd\n",
    "from sklearn.metrics import confusion_matrix, accuracy_score\n",
    "\n",
    "cm = confusion_matrix(klasses, predictions)\n",
    "\n",
    "print(\"\\nConfusion matrix:\\n\")\n",
    "print(cm)\n",
    "display(\"Overall accuracy: {0:.2f}\".format(accuracy_score(klasses, predictions)))"
   ]
  }
 ],
 "metadata": {
  "kernelspec": {
   "display_name": "Python 3",
   "language": "python",
   "name": "python3"
  },
  "language_info": {
   "codemirror_mode": {
    "name": "ipython",
    "version": 3
   },
   "file_extension": ".py",
   "mimetype": "text/x-python",
   "name": "python",
   "nbconvert_exporter": "python",
   "pygments_lexer": "ipython3",
   "version": "3.6.5"
  }
 },
 "nbformat": 4,
 "nbformat_minor": 2
}
